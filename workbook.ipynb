{
 "cells": [
  {
   "cell_type": "code",
   "execution_count": 1,
   "metadata": {},
   "outputs": [
    {
     "name": "stdout",
     "output_type": "stream",
     "text": [
      "Requirement already satisfied: mysql-connector-python in ./venv/lib/python3.10/site-packages (8.4.0)\n"
     ]
    }
   ],
   "source": [
    "!pip install mysql-connector-python\n",
    "\n",
    "import mysql.connector as connector\n",
    "from src.settings import settings"
   ]
  },
  {
   "cell_type": "markdown",
   "metadata": {},
   "source": [
    "## Task 1\n",
    "\n",
    "Connector to database and create a cursor object"
   ]
  },
  {
   "cell_type": "code",
   "execution_count": 2,
   "metadata": {},
   "outputs": [],
   "source": [
    "connection = connector.connect(\n",
    "    user=settings.db_user,\n",
    "    password=settings.db_password,\n",
    "    db=settings.db_name,\n",
    ")\n",
    "cursor = connection.cursor()"
   ]
  },
  {
   "cell_type": "markdown",
   "metadata": {},
   "source": [
    "## Task 2\n",
    "\n",
    "Query the datbase and show all tables"
   ]
  },
  {
   "cell_type": "code",
   "execution_count": 3,
   "metadata": {},
   "outputs": [
    {
     "name": "stdout",
     "output_type": "stream",
     "text": [
      "[('Bookings',), ('Customers',), ('DeliveryStatus',), ('Menu',), ('Orders',), ('OrdersView',), ('Staff',), ('Task2',), ('Task3',)]\n"
     ]
    }
   ],
   "source": [
    "show_tables_query = \"\"\"SHOW TABLES;\"\"\"\n",
    "cursor.execute(show_tables_query)\n",
    "results = cursor.fetchall()\n",
    "\n",
    "print(results)"
   ]
  },
  {
   "cell_type": "markdown",
   "metadata": {},
   "source": [
    "## Task 3\n",
    "\n",
    "Query table with a join, getting the full name and contact details of every customer that has placed an order greater than $60 for a promotional campaign."
   ]
  },
  {
   "cell_type": "code",
   "execution_count": 4,
   "metadata": {},
   "outputs": [
    {
     "name": "stdout",
     "output_type": "stream",
     "text": [
      "('Zeus', '123123123', 'zeus@olympus.com', Decimal('1000.00'), datetime.date(2024, 5, 16))\n",
      "('Hades', '789789789', 'hades@hades.com', Decimal('150.00'), datetime.date(2024, 5, 16))\n"
     ]
    }
   ],
   "source": [
    "query = \"\"\"\n",
    "SELECT\n",
    "    c.FullName\n",
    "    , c.PhoneNumber\n",
    "    , c.Email\n",
    "    , o.Price\n",
    "    , o.Date\n",
    "FROM Customers AS c\n",
    "JOIN Orders AS o ON c.ID = o.CustomerID\n",
    "WHERE o.Price > 60;\n",
    "\"\"\"\n",
    "cursor.execute(query)\n",
    "results = cursor.fetchall()\n",
    "\n",
    "for x in results:\n",
    "    print(x)"
   ]
  },
  {
   "cell_type": "markdown",
   "metadata": {},
   "source": [
    "## Rubric Tests\n",
    "\n",
    "Runs the procedures in the rubric to make sure they work properly."
   ]
  },
  {
   "cell_type": "markdown",
   "metadata": {},
   "source": [
    "#### GetMaxQuantity"
   ]
  },
  {
   "cell_type": "code",
   "execution_count": 5,
   "metadata": {},
   "outputs": [
    {
     "name": "stdout",
     "output_type": "stream",
     "text": [
      "[(100,)]\n"
     ]
    }
   ],
   "source": [
    "\n",
    "cursor.callproc(\"GetMaxQuantity\")\n",
    "results = cursor.stored_results()\n",
    "\n",
    "for x in results:\n",
    "    print(x.fetchall())"
   ]
  },
  {
   "cell_type": "markdown",
   "metadata": {},
   "source": [
    "#### ManageBooking\n",
    "\n",
    "Well, there were no directions about creating a ManageBooking function, so I'm going to guess it's the \"CheckBooking\" procedure"
   ]
  },
  {
   "cell_type": "code",
   "execution_count": 6,
   "metadata": {},
   "outputs": [
    {
     "name": "stdout",
     "output_type": "stream",
     "text": [
      "[('Table 4 is available',)]\n"
     ]
    }
   ],
   "source": [
    "cursor.callproc(\"CheckBooking\", args=(\"2022-12-29\", 4))\n",
    "results = cursor.stored_results()\n",
    "\n",
    "for x in results:\n",
    "    print(x.fetchall())"
   ]
  },
  {
   "cell_type": "markdown",
   "metadata": {},
   "source": [
    "or the \"AddBooking\" procedure"
   ]
  },
  {
   "cell_type": "code",
   "execution_count": 7,
   "metadata": {},
   "outputs": [
    {
     "name": "stdout",
     "output_type": "stream",
     "text": [
      "[('Booked Table 4 for Customer 3 on 2022-12-29',)]\n"
     ]
    }
   ],
   "source": [
    "cursor.callproc(\"AddBooking\", args=(10, 3, 4, \"2022-12-29\"))\n",
    "results = cursor.stored_results()\n",
    "\n",
    "for x in results:\n",
    "    print(x.fetchall())"
   ]
  },
  {
   "cell_type": "code",
   "execution_count": 8,
   "metadata": {},
   "outputs": [
    {
     "name": "stdout",
     "output_type": "stream",
     "text": [
      "('ID', 'Date', 'TableNumber', 'CustomerID')\n",
      "(10, datetime.date(2022, 12, 29), 4, 3)\n"
     ]
    }
   ],
   "source": [
    "query = \"\"\"SELECT * FROM Bookings WHERE ID = 10\"\"\"\n",
    "cursor.execute(query)\n",
    "results = cursor.fetchall()\n",
    "\n",
    "print(cursor.column_names)\n",
    "for x in results:\n",
    "    print(x)"
   ]
  },
  {
   "cell_type": "markdown",
   "metadata": {},
   "source": [
    "#### Update Booking"
   ]
  },
  {
   "cell_type": "code",
   "execution_count": 9,
   "metadata": {},
   "outputs": [
    {
     "name": "stdout",
     "output_type": "stream",
     "text": [
      "[('Booking 10 updated',)]\n"
     ]
    }
   ],
   "source": [
    "cursor.callproc(\"Updatebooking\", args=(10, \"2022-12-30\"))\n",
    "results = cursor.stored_results()\n",
    "\n",
    "for x in results:\n",
    "    print(x.fetchall())"
   ]
  },
  {
   "cell_type": "code",
   "execution_count": 10,
   "metadata": {},
   "outputs": [
    {
     "name": "stdout",
     "output_type": "stream",
     "text": [
      "('ID', 'Date', 'TableNumber', 'CustomerID')\n",
      "(10, datetime.date(2022, 12, 30), 4, 3)\n"
     ]
    }
   ],
   "source": [
    "query = \"\"\"SELECT * FROM Bookings WHERE ID = 10\"\"\"\n",
    "cursor.execute(query)\n",
    "results = cursor.fetchall()\n",
    "\n",
    "print(cursor.column_names)\n",
    "for x in results:\n",
    "    print(x)"
   ]
  },
  {
   "cell_type": "markdown",
   "metadata": {},
   "source": [
    "#### Cancel Booking\n"
   ]
  },
  {
   "cell_type": "code",
   "execution_count": 11,
   "metadata": {},
   "outputs": [
    {
     "name": "stdout",
     "output_type": "stream",
     "text": [
      "[('Booking 10 canceled',)]\n"
     ]
    }
   ],
   "source": [
    "cursor.callproc(\"CancelBooking\", args=(10,))\n",
    "results = cursor.stored_results()\n",
    "\n",
    "for x in results:\n",
    "    print(x.fetchall())\n"
   ]
  },
  {
   "cell_type": "code",
   "execution_count": 12,
   "metadata": {},
   "outputs": [
    {
     "name": "stdout",
     "output_type": "stream",
     "text": [
      "(1, datetime.date(2022, 10, 10), 5, 1)\n",
      "(2, datetime.date(2022, 11, 12), 3, 3)\n",
      "(3, datetime.date(2022, 10, 11), 2, 2)\n",
      "(4, datetime.date(2022, 10, 13), 2, 1)\n",
      "(5, datetime.date(2022, 11, 12), 1, 1)\n",
      "(6, datetime.date(2022, 11, 12), 2, 2)\n"
     ]
    }
   ],
   "source": [
    "query = \"SELECT * FROM Bookings;\"\n",
    "cursor.execute(query)\n",
    "results = cursor.fetchall()\n",
    "\n",
    "for x in results:\n",
    "    print(x)"
   ]
  },
  {
   "cell_type": "markdown",
   "metadata": {},
   "source": [
    "## Close Connection"
   ]
  },
  {
   "cell_type": "code",
   "execution_count": 13,
   "metadata": {},
   "outputs": [],
   "source": [
    "cursor.close()\n",
    "connection.close()"
   ]
  }
 ],
 "metadata": {
  "kernelspec": {
   "display_name": "venv",
   "language": "python",
   "name": "python3"
  },
  "language_info": {
   "codemirror_mode": {
    "name": "ipython",
    "version": 3
   },
   "file_extension": ".py",
   "mimetype": "text/x-python",
   "name": "python",
   "nbconvert_exporter": "python",
   "pygments_lexer": "ipython3",
   "version": "3.10.12"
  }
 },
 "nbformat": 4,
 "nbformat_minor": 2
}
